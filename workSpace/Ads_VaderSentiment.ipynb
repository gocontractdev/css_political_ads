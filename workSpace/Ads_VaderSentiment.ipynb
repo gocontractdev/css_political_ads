{
 "cells": [
  {
   "cell_type": "code",
   "execution_count": 1,
   "metadata": {},
   "outputs": [],
   "source": [
    "from vaderSentiment.vaderSentiment import SentimentIntensityAnalyzer\n",
    "import time\n"
   ]
  },
  {
   "cell_type": "code",
   "execution_count": 2,
   "metadata": {},
   "outputs": [],
   "source": [
    "analyzer = SentimentIntensityAnalyzer()\n"
   ]
  },
  {
   "cell_type": "code",
   "execution_count": 5,
   "metadata": {},
   "outputs": [],
   "source": [
    "pos_count = 0\n",
    "pos_correct = 0\n",
    "\n",
    "with open(\"positive.txt\",\"r\") as f:\n",
    "    for line in f.read().split('\\n'):\n",
    "        vs = analyzer.polarity_scores(line)\n",
    "        if not vs['neg'] > 0.1:\n",
    "            if vs['pos']-vs['neg'] > 0:\n",
    "                pos_correct += 1\n",
    "            pos_count +=1\n",
    "\n",
    "\n",
    "neg_count = 0\n",
    "neg_correct = 0\n",
    "\n",
    "with open(\"negative.txt\",\"r\") as f:\n",
    "    for line in f.read().split('\\n'):\n",
    "        vs = analyzer.polarity_scores(line)\n",
    "        if not vs['pos'] > 0.1:\n",
    "            if vs['pos']-vs['neg'] <= 0:\n",
    "                neg_correct += 1\n",
    "            neg_count +=1\n"
   ]
  },
  {
   "cell_type": "code",
   "execution_count": 6,
   "metadata": {},
   "outputs": [
    {
     "name": "stdout",
     "output_type": "stream",
     "text": [
      "Positive accuracy = 80.69370058658507% via 3921 samples\n",
      "Negative accuracy = 91.73643975245722% via 2747 samples\n"
     ]
    }
   ],
   "source": [
    "print(\"Positive accuracy = {}% via {} samples\".format(pos_correct/pos_count*100.0, pos_count))\n",
    "print(\"Negative accuracy = {}% via {} samples\".format(neg_correct/neg_count*100.0, neg_count))"
   ]
  },
  {
   "cell_type": "code",
   "execution_count": 7,
   "metadata": {},
   "outputs": [],
   "source": [
    "pos_count = 0\n",
    "pos_correct = 0\n",
    "\n",
    "with open(\"text_data_IRA_Ads.txt\",\"r\") as f:\n",
    "    for line in f.read().split('\\n'):\n",
    "        vs = analyzer.polarity_scores(line)\n",
    "        if not vs['neg'] > 0.1:\n",
    "            if vs['pos']-vs['neg'] > 0:\n",
    "                pos_correct += 1\n",
    "            pos_count +=1\n",
    "\n",
    "\n",
    "neg_count = 0\n",
    "neg_correct = 0\n",
    "\n",
    "with open(\"text_data_IRA_Ads.txt\",\"r\") as f:\n",
    "    for line in f.read().split('\\n'):\n",
    "        vs = analyzer.polarity_scores(line)\n",
    "        if not vs['pos'] > 0.1:\n",
    "            if vs['pos']-vs['neg'] <= 0:\n",
    "                neg_correct += 1\n",
    "            neg_count +=1"
   ]
  },
  {
   "cell_type": "code",
   "execution_count": 8,
   "metadata": {},
   "outputs": [
    {
     "name": "stdout",
     "output_type": "stream",
     "text": [
      "Ads Positive accuracy = 68.41018582243635% via 1453 samples\n",
      "Ads Negative accuracy = 91.20781527531084% via 1126 samples\n"
     ]
    }
   ],
   "source": [
    "print(\"Ads Positive accuracy = {}% via {} samples\".format(pos_correct/pos_count*100.0, pos_count))\n",
    "print(\"Ads Negative accuracy = {}% via {} samples\".format(neg_correct/neg_count*100.0, neg_count))"
   ]
  },
  {
   "cell_type": "code",
   "execution_count": null,
   "metadata": {},
   "outputs": [],
   "source": []
  }
 ],
 "metadata": {
  "kernelspec": {
   "display_name": "Python 3",
   "language": "python",
   "name": "python3"
  },
  "language_info": {
   "codemirror_mode": {
    "name": "ipython",
    "version": 3
   },
   "file_extension": ".py",
   "mimetype": "text/x-python",
   "name": "python",
   "nbconvert_exporter": "python",
   "pygments_lexer": "ipython3",
   "version": "3.7.3"
  }
 },
 "nbformat": 4,
 "nbformat_minor": 2
}
