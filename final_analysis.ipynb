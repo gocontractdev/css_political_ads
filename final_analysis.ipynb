{
 "cells": [
  {
   "cell_type": "code",
   "execution_count": 2,
   "metadata": {
    "collapsed": true
   },
   "outputs": [],
   "source": [
    "import pandas as pd\n",
    "import numpy as np\n",
    "import matplotlib.pyplot as plt"
   ]
  },
  {
   "cell_type": "code",
   "execution_count": 3,
   "metadata": {
    "collapsed": true
   },
   "outputs": [],
   "source": [
    "df= pd.read_csv(\"processed_data.csv\", delimiter='\\t')\n"
   ]
  },
  {
   "cell_type": "code",
   "execution_count": 4,
   "metadata": {
    "collapsed": true
   },
   "outputs": [],
   "source": [
    "df = df[['AD_ID','AD_CLICKS','AD_IMPRESSIONS','AD_SPEND','AD_TARGETING_AGE','AD_TARGETING_INTERESTS','AD_TEXT', 'AD_POTENTIAL_TARGET','positivity_index','negativity_index', 'neutrality_index','compound_measure', 'flag', 'CTR']]"
   ]
  },
  {
   "cell_type": "code",
   "execution_count": 5,
   "metadata": {
    "collapsed": true
   },
   "outputs": [],
   "source": [
    "# Deleting nan values from AD_TARGETTING_INTEREST column\n",
    "df = df.dropna(subset=['AD_TARGETING_INTERESTS'])"
   ]
  },
  {
   "cell_type": "code",
   "execution_count": 6,
   "metadata": {
    "collapsed": true
   },
   "outputs": [],
   "source": [
    "df['LGBT'] = np.where(df['AD_TARGETING_INTERESTS'].str.contains('LGBT|Homosexuality'), 1, 0)\n",
    "df['ISLAM'] = np.where(df['AD_TARGETING_INTERESTS'].str.contains('Muslim|Islam'), 1, 0)\n",
    "df['BLACK'] = np.where(df['AD_TARGETING_INTERESTS'].str.contains('Black|African'), 1, 0)\n",
    "df['POLICE'] = np.where(df['AD_TARGETING_INTERESTS'].str.contains('Amendement|Crime|Police|Gun|Cop'), 1, 0)\n",
    "df['HISPANIC'] = np.where(df['AD_TARGETING_INTERESTS'].str.contains('Mexico|Mexican'), 1, 0)\n",
    "df['CONSERVATIVE'] = np.where(df['AD_TARGETING_INTERESTS'].str.contains('Conservative|Conservatism'), 1, 0)"
   ]
  },
  {
   "cell_type": "code",
   "execution_count": 7,
   "metadata": {},
   "outputs": [
    {
     "data": {
      "text/html": [
       "<div>\n",
       "<style>\n",
       "    .dataframe thead tr:only-child th {\n",
       "        text-align: right;\n",
       "    }\n",
       "\n",
       "    .dataframe thead th {\n",
       "        text-align: left;\n",
       "    }\n",
       "\n",
       "    .dataframe tbody tr th {\n",
       "        vertical-align: top;\n",
       "    }\n",
       "</style>\n",
       "<table border=\"1\" class=\"dataframe\">\n",
       "  <thead>\n",
       "    <tr style=\"text-align: right;\">\n",
       "      <th></th>\n",
       "      <th>AD_ID</th>\n",
       "      <th>AD_CLICKS</th>\n",
       "      <th>AD_IMPRESSIONS</th>\n",
       "      <th>AD_SPEND</th>\n",
       "      <th>AD_TARGETING_AGE</th>\n",
       "      <th>AD_TARGETING_INTERESTS</th>\n",
       "      <th>AD_TEXT</th>\n",
       "      <th>AD_POTENTIAL_TARGET</th>\n",
       "      <th>positivity_index</th>\n",
       "      <th>negativity_index</th>\n",
       "      <th>neutrality_index</th>\n",
       "      <th>compound_measure</th>\n",
       "      <th>flag</th>\n",
       "      <th>CTR</th>\n",
       "      <th>LGBT</th>\n",
       "      <th>ISLAM</th>\n",
       "      <th>BLACK</th>\n",
       "      <th>POLICE</th>\n",
       "      <th>HISPANIC</th>\n",
       "      <th>CONSERVATIVE</th>\n",
       "    </tr>\n",
       "  </thead>\n",
       "  <tbody>\n",
       "    <tr>\n",
       "      <th>0</th>\n",
       "      <td>1</td>\n",
       "      <td>6</td>\n",
       "      <td>358</td>\n",
       "      <td>0.0</td>\n",
       "      <td>18 - 51</td>\n",
       "      <td>News broadcasting, Political party, Breaking n...</td>\n",
       "      <td>Instgogogo</td>\n",
       "      <td>52000000.0</td>\n",
       "      <td>0.000</td>\n",
       "      <td>0.000</td>\n",
       "      <td>1.000</td>\n",
       "      <td>0.0000</td>\n",
       "      <td>neutral</td>\n",
       "      <td>1.676</td>\n",
       "      <td>0</td>\n",
       "      <td>0</td>\n",
       "      <td>0</td>\n",
       "      <td>0</td>\n",
       "      <td>0</td>\n",
       "      <td>0</td>\n",
       "    </tr>\n",
       "    <tr>\n",
       "      <th>2</th>\n",
       "      <td>3</td>\n",
       "      <td>0</td>\n",
       "      <td>0</td>\n",
       "      <td>0.0</td>\n",
       "      <td>18 - 65+</td>\n",
       "      <td>Cop Block or Black (Color)</td>\n",
       "      <td>Black lives matter because we see what's going...</td>\n",
       "      <td>17000000.0</td>\n",
       "      <td>0.259</td>\n",
       "      <td>0.000</td>\n",
       "      <td>0.741</td>\n",
       "      <td>0.9062</td>\n",
       "      <td>positive</td>\n",
       "      <td>0.000</td>\n",
       "      <td>0</td>\n",
       "      <td>0</td>\n",
       "      <td>1</td>\n",
       "      <td>1</td>\n",
       "      <td>0</td>\n",
       "      <td>0</td>\n",
       "    </tr>\n",
       "    <tr>\n",
       "      <th>3</th>\n",
       "      <td>4</td>\n",
       "      <td>33</td>\n",
       "      <td>14311</td>\n",
       "      <td>0.0</td>\n",
       "      <td>13 - 44</td>\n",
       "      <td>Cop Block</td>\n",
       "      <td>Don't Shoot is a community site where you can ...</td>\n",
       "      <td>490000.0</td>\n",
       "      <td>0.169</td>\n",
       "      <td>0.048</td>\n",
       "      <td>0.784</td>\n",
       "      <td>0.6247</td>\n",
       "      <td>positive</td>\n",
       "      <td>0.231</td>\n",
       "      <td>0</td>\n",
       "      <td>0</td>\n",
       "      <td>0</td>\n",
       "      <td>1</td>\n",
       "      <td>0</td>\n",
       "      <td>0</td>\n",
       "    </tr>\n",
       "    <tr>\n",
       "      <th>4</th>\n",
       "      <td>5</td>\n",
       "      <td>201</td>\n",
       "      <td>29786</td>\n",
       "      <td>0.0</td>\n",
       "      <td>18 - 65+</td>\n",
       "      <td>Understanding racial segregation in the united...</td>\n",
       "      <td>WHERE is your VOICE?</td>\n",
       "      <td>NaN</td>\n",
       "      <td>0.000</td>\n",
       "      <td>0.000</td>\n",
       "      <td>1.000</td>\n",
       "      <td>0.0000</td>\n",
       "      <td>neutral</td>\n",
       "      <td>0.675</td>\n",
       "      <td>0</td>\n",
       "      <td>0</td>\n",
       "      <td>1</td>\n",
       "      <td>1</td>\n",
       "      <td>0</td>\n",
       "      <td>0</td>\n",
       "    </tr>\n",
       "    <tr>\n",
       "      <th>5</th>\n",
       "      <td>6</td>\n",
       "      <td>0</td>\n",
       "      <td>0</td>\n",
       "      <td>0.0</td>\n",
       "      <td>13 - 44</td>\n",
       "      <td>Christ's Commission Fellowship, Jesus, Jesus D...</td>\n",
       "      <td>Conservative Christians. Pro-life/ gun/ police...</td>\n",
       "      <td>21000000.0</td>\n",
       "      <td>0.000</td>\n",
       "      <td>0.000</td>\n",
       "      <td>1.000</td>\n",
       "      <td>0.0000</td>\n",
       "      <td>neutral</td>\n",
       "      <td>0.000</td>\n",
       "      <td>0</td>\n",
       "      <td>0</td>\n",
       "      <td>0</td>\n",
       "      <td>0</td>\n",
       "      <td>0</td>\n",
       "      <td>0</td>\n",
       "    </tr>\n",
       "  </tbody>\n",
       "</table>\n",
       "</div>"
      ],
      "text/plain": [
       "   AD_ID  AD_CLICKS  AD_IMPRESSIONS  AD_SPEND AD_TARGETING_AGE  \\\n",
       "0      1          6             358       0.0          18 - 51   \n",
       "2      3          0               0       0.0         18 - 65+   \n",
       "3      4         33           14311       0.0          13 - 44   \n",
       "4      5        201           29786       0.0         18 - 65+   \n",
       "5      6          0               0       0.0          13 - 44   \n",
       "\n",
       "                              AD_TARGETING_INTERESTS  \\\n",
       "0  News broadcasting, Political party, Breaking n...   \n",
       "2                         Cop Block or Black (Color)   \n",
       "3                                          Cop Block   \n",
       "4  Understanding racial segregation in the united...   \n",
       "5  Christ's Commission Fellowship, Jesus, Jesus D...   \n",
       "\n",
       "                                             AD_TEXT  AD_POTENTIAL_TARGET  \\\n",
       "0                                         Instgogogo           52000000.0   \n",
       "2  Black lives matter because we see what's going...           17000000.0   \n",
       "3  Don't Shoot is a community site where you can ...             490000.0   \n",
       "4                               WHERE is your VOICE?                  NaN   \n",
       "5  Conservative Christians. Pro-life/ gun/ police...           21000000.0   \n",
       "\n",
       "   positivity_index  negativity_index  neutrality_index  compound_measure  \\\n",
       "0             0.000             0.000             1.000            0.0000   \n",
       "2             0.259             0.000             0.741            0.9062   \n",
       "3             0.169             0.048             0.784            0.6247   \n",
       "4             0.000             0.000             1.000            0.0000   \n",
       "5             0.000             0.000             1.000            0.0000   \n",
       "\n",
       "       flag    CTR  LGBT  ISLAM  BLACK  POLICE  HISPANIC  CONSERVATIVE  \n",
       "0   neutral  1.676     0      0      0       0         0             0  \n",
       "2  positive  0.000     0      0      1       1         0             0  \n",
       "3  positive  0.231     0      0      0       1         0             0  \n",
       "4   neutral  0.675     0      0      1       1         0             0  \n",
       "5   neutral  0.000     0      0      0       0         0             0  "
      ]
     },
     "execution_count": 7,
     "metadata": {},
     "output_type": "execute_result"
    }
   ],
   "source": [
    "df.head()"
   ]
  },
  {
   "cell_type": "code",
   "execution_count": 9,
   "metadata": {
    "collapsed": true
   },
   "outputs": [],
   "source": [
    "f=['TARGET_GROUP','CTR_mean', '%positive', '%negative', '%neutral','impressions']\n",
    "metrics = pd.DataFrame(columns=f)"
   ]
  },
  {
   "cell_type": "code",
   "execution_count": 10,
   "metadata": {},
   "outputs": [
    {
     "data": {
      "text/html": [
       "<div>\n",
       "<style>\n",
       "    .dataframe thead tr:only-child th {\n",
       "        text-align: right;\n",
       "    }\n",
       "\n",
       "    .dataframe thead th {\n",
       "        text-align: left;\n",
       "    }\n",
       "\n",
       "    .dataframe tbody tr th {\n",
       "        vertical-align: top;\n",
       "    }\n",
       "</style>\n",
       "<table border=\"1\" class=\"dataframe\">\n",
       "  <thead>\n",
       "    <tr style=\"text-align: right;\">\n",
       "      <th></th>\n",
       "      <th>TARGET_GROUP</th>\n",
       "      <th>CTR_mean</th>\n",
       "      <th>%positive</th>\n",
       "      <th>%negative</th>\n",
       "      <th>%neutral</th>\n",
       "      <th>impressions</th>\n",
       "    </tr>\n",
       "  </thead>\n",
       "  <tbody>\n",
       "  </tbody>\n",
       "</table>\n",
       "</div>"
      ],
      "text/plain": [
       "Empty DataFrame\n",
       "Columns: [TARGET_GROUP, CTR_mean, %positive, %negative, %neutral, impressions]\n",
       "Index: []"
      ]
     },
     "execution_count": 10,
     "metadata": {},
     "output_type": "execute_result"
    }
   ],
   "source": [
    "metrics\n"
   ]
  },
  {
   "cell_type": "code",
   "execution_count": 11,
   "metadata": {
    "collapsed": true
   },
   "outputs": [],
   "source": [
    "\n",
    "Targets = ['LGBT','ISLAM','BLACK','POLICE','HISPANIC','CONSERVATIVE']\n",
    "\n"
   ]
  },
  {
   "cell_type": "code",
   "execution_count": 12,
   "metadata": {
    "collapsed": true
   },
   "outputs": [],
   "source": [
    "for t in Targets : \n",
    "    metrics= metrics.append({'TARGET_GROUP': t, \n",
    "                'CTR_mean': df[df[t]==1]['CTR'].mean(),\n",
    "                '%positive':np.sum(df[df[t]==1]['flag']=='positive')/len(df[df[t]==1]), \n",
    "                '%negative':np.sum(df[df[t]==1]['flag']=='negative')/len(df[df[t]==1]), \n",
    "                '%neutral':np.sum(df[df[t]==1]['flag']=='neutral')/len(df[df[t]==1]),\n",
    "                'impressions': df[df[t]==1]['AD_IMPRESSIONS'].sum()} ,ignore_index=True)\n"
   ]
  },
  {
   "cell_type": "code",
   "execution_count": 13,
   "metadata": {},
   "outputs": [
    {
     "data": {
      "text/html": [
       "<div>\n",
       "<style>\n",
       "    .dataframe thead tr:only-child th {\n",
       "        text-align: right;\n",
       "    }\n",
       "\n",
       "    .dataframe thead th {\n",
       "        text-align: left;\n",
       "    }\n",
       "\n",
       "    .dataframe tbody tr th {\n",
       "        vertical-align: top;\n",
       "    }\n",
       "</style>\n",
       "<table border=\"1\" class=\"dataframe\">\n",
       "  <thead>\n",
       "    <tr style=\"text-align: right;\">\n",
       "      <th></th>\n",
       "      <th>TARGET_GROUP</th>\n",
       "      <th>CTR_mean</th>\n",
       "      <th>%positive</th>\n",
       "      <th>%negative</th>\n",
       "      <th>%neutral</th>\n",
       "      <th>impressions</th>\n",
       "    </tr>\n",
       "  </thead>\n",
       "  <tbody>\n",
       "    <tr>\n",
       "      <th>0</th>\n",
       "      <td>LGBT</td>\n",
       "      <td>7.279596</td>\n",
       "      <td>0.230769</td>\n",
       "      <td>0.250000</td>\n",
       "      <td>0.519231</td>\n",
       "      <td>812174</td>\n",
       "    </tr>\n",
       "    <tr>\n",
       "      <th>1</th>\n",
       "      <td>ISLAM</td>\n",
       "      <td>2.962161</td>\n",
       "      <td>0.161290</td>\n",
       "      <td>0.064516</td>\n",
       "      <td>0.758065</td>\n",
       "      <td>539155</td>\n",
       "    </tr>\n",
       "    <tr>\n",
       "      <th>2</th>\n",
       "      <td>BLACK</td>\n",
       "      <td>8.541585</td>\n",
       "      <td>0.351048</td>\n",
       "      <td>0.248503</td>\n",
       "      <td>0.393713</td>\n",
       "      <td>17885543</td>\n",
       "    </tr>\n",
       "    <tr>\n",
       "      <th>3</th>\n",
       "      <td>POLICE</td>\n",
       "      <td>5.452895</td>\n",
       "      <td>0.308411</td>\n",
       "      <td>0.287383</td>\n",
       "      <td>0.404206</td>\n",
       "      <td>8253182</td>\n",
       "    </tr>\n",
       "    <tr>\n",
       "      <th>4</th>\n",
       "      <td>HISPANIC</td>\n",
       "      <td>12.483726</td>\n",
       "      <td>0.233503</td>\n",
       "      <td>0.050761</td>\n",
       "      <td>0.710660</td>\n",
       "      <td>4800676</td>\n",
       "    </tr>\n",
       "    <tr>\n",
       "      <th>5</th>\n",
       "      <td>CONSERVATIVE</td>\n",
       "      <td>6.055139</td>\n",
       "      <td>0.222222</td>\n",
       "      <td>0.055556</td>\n",
       "      <td>0.722222</td>\n",
       "      <td>191539</td>\n",
       "    </tr>\n",
       "  </tbody>\n",
       "</table>\n",
       "</div>"
      ],
      "text/plain": [
       "   TARGET_GROUP   CTR_mean  %positive  %negative  %neutral impressions\n",
       "0          LGBT   7.279596   0.230769   0.250000  0.519231      812174\n",
       "1         ISLAM   2.962161   0.161290   0.064516  0.758065      539155\n",
       "2         BLACK   8.541585   0.351048   0.248503  0.393713    17885543\n",
       "3        POLICE   5.452895   0.308411   0.287383  0.404206     8253182\n",
       "4      HISPANIC  12.483726   0.233503   0.050761  0.710660     4800676\n",
       "5  CONSERVATIVE   6.055139   0.222222   0.055556  0.722222      191539"
      ]
     },
     "execution_count": 13,
     "metadata": {},
     "output_type": "execute_result"
    }
   ],
   "source": [
    "metrics"
   ]
  },
  {
   "cell_type": "code",
   "execution_count": 14,
   "metadata": {},
   "outputs": [
    {
     "data": {
      "image/png": "[encoded data removed]",
      "text/plain": [
       "<matplotlib.figure.Figure at 0xac36588>"
      ]
     },
     "metadata": {},
     "output_type": "display_data"
    }
   ],
   "source": [
    "#plotting CTR_mean vs Target_groups\n",
    "ax = metrics.plot.bar(x='TARGET_GROUP', y='CTR_mean', rot=0)\n",
    "plt.show()"
   ]
  },
  {
   "cell_type": "code",
   "execution_count": 15,
   "metadata": {},
   "outputs": [
    {
     "data": {
      "image/png": "[encoded data removed]",
      "text/plain": [
       "<matplotlib.figure.Figure at 0xab6b208>"
      ]
     },
     "metadata": {},
     "output_type": "display_data"
    }
   ],
   "source": [
    "#plotting CTR_mean vs positive and negative\n",
    "ax = metrics.plot.bar(x='TARGET_GROUP', y=['%positive','%negative'])\n",
    "plt.show()"
   ]
  },
  {
   "cell_type": "code",
   "execution_count": 16,
   "metadata": {},
   "outputs": [
    {
     "data": {
      "text/plain": [
       "6.153499999999999"
      ]
     },
     "execution_count": 16,
     "metadata": {},
     "output_type": "execute_result"
    }
   ],
   "source": [
    "#calculate the mean CTR for all the ads:\n",
    "df['CTR'].median()\n"
   ]
  },
  {
   "cell_type": "code",
   "execution_count": 17,
   "metadata": {
    "collapsed": true
   },
   "outputs": [],
   "source": [
    "#CTR above this value means effective and vice versa"
   ]
  },
  {
   "cell_type": "code",
   "execution_count": 18,
   "metadata": {
    "collapsed": true
   },
   "outputs": [],
   "source": [
    "metrics['effectiveness']= np.where(metrics['CTR_mean'] > df['CTR'].median(), 'Yes', 'No')"
   ]
  },
  {
   "cell_type": "code",
   "execution_count": 19,
   "metadata": {},
   "outputs": [
    {
     "data": {
      "text/html": [
       "<div>\n",
       "<style>\n",
       "    .dataframe thead tr:only-child th {\n",
       "        text-align: right;\n",
       "    }\n",
       "\n",
       "    .dataframe thead th {\n",
       "        text-align: left;\n",
       "    }\n",
       "\n",
       "    .dataframe tbody tr th {\n",
       "        vertical-align: top;\n",
       "    }\n",
       "</style>\n",
       "<table border=\"1\" class=\"dataframe\">\n",
       "  <thead>\n",
       "    <tr style=\"text-align: right;\">\n",
       "      <th></th>\n",
       "      <th>TARGET_GROUP</th>\n",
       "      <th>CTR_mean</th>\n",
       "      <th>%positive</th>\n",
       "      <th>%negative</th>\n",
       "      <th>%neutral</th>\n",
       "      <th>impressions</th>\n",
       "      <th>effectiveness</th>\n",
       "    </tr>\n",
       "  </thead>\n",
       "  <tbody>\n",
       "    <tr>\n",
       "      <th>0</th>\n",
       "      <td>LGBT</td>\n",
       "      <td>7.279596</td>\n",
       "      <td>0.230769</td>\n",
       "      <td>0.250000</td>\n",
       "      <td>0.519231</td>\n",
       "      <td>812174</td>\n",
       "      <td>Yes</td>\n",
       "    </tr>\n",
       "    <tr>\n",
       "      <th>1</th>\n",
       "      <td>ISLAM</td>\n",
       "      <td>2.962161</td>\n",
       "      <td>0.161290</td>\n",
       "      <td>0.064516</td>\n",
       "      <td>0.758065</td>\n",
       "      <td>539155</td>\n",
       "      <td>No</td>\n",
       "    </tr>\n",
       "    <tr>\n",
       "      <th>2</th>\n",
       "      <td>BLACK</td>\n",
       "      <td>8.541585</td>\n",
       "      <td>0.351048</td>\n",
       "      <td>0.248503</td>\n",
       "      <td>0.393713</td>\n",
       "      <td>17885543</td>\n",
       "      <td>Yes</td>\n",
       "    </tr>\n",
       "    <tr>\n",
       "      <th>3</th>\n",
       "      <td>POLICE</td>\n",
       "      <td>5.452895</td>\n",
       "      <td>0.308411</td>\n",
       "      <td>0.287383</td>\n",
       "      <td>0.404206</td>\n",
       "      <td>8253182</td>\n",
       "      <td>No</td>\n",
       "    </tr>\n",
       "    <tr>\n",
       "      <th>4</th>\n",
       "      <td>HISPANIC</td>\n",
       "      <td>12.483726</td>\n",
       "      <td>0.233503</td>\n",
       "      <td>0.050761</td>\n",
       "      <td>0.710660</td>\n",
       "      <td>4800676</td>\n",
       "      <td>Yes</td>\n",
       "    </tr>\n",
       "    <tr>\n",
       "      <th>5</th>\n",
       "      <td>CONSERVATIVE</td>\n",
       "      <td>6.055139</td>\n",
       "      <td>0.222222</td>\n",
       "      <td>0.055556</td>\n",
       "      <td>0.722222</td>\n",
       "      <td>191539</td>\n",
       "      <td>No</td>\n",
       "    </tr>\n",
       "  </tbody>\n",
       "</table>\n",
       "</div>"
      ],
      "text/plain": [
       "   TARGET_GROUP   CTR_mean  %positive  %negative  %neutral impressions  \\\n",
       "0          LGBT   7.279596   0.230769   0.250000  0.519231      812174   \n",
       "1         ISLAM   2.962161   0.161290   0.064516  0.758065      539155   \n",
       "2         BLACK   8.541585   0.351048   0.248503  0.393713    17885543   \n",
       "3        POLICE   5.452895   0.308411   0.287383  0.404206     8253182   \n",
       "4      HISPANIC  12.483726   0.233503   0.050761  0.710660     4800676   \n",
       "5  CONSERVATIVE   6.055139   0.222222   0.055556  0.722222      191539   \n",
       "\n",
       "  effectiveness  \n",
       "0           Yes  \n",
       "1            No  \n",
       "2           Yes  \n",
       "3            No  \n",
       "4           Yes  \n",
       "5            No  "
      ]
     },
     "execution_count": 19,
     "metadata": {},
     "output_type": "execute_result"
    }
   ],
   "source": [
    "metrics"
   ]
  },
  {
   "cell_type": "code",
   "execution_count": 20,
   "metadata": {
    "collapsed": true
   },
   "outputs": [],
   "source": [
    "# the ads targeting LGBT,BLACK and HISPANIC were effective.\n",
    "# the less effective campaigns have a higher proportion of ads associated with Islam. \n",
    "# We can say that religious ads are less effective.\n"
   ]
  },
  {
   "cell_type": "code",
   "execution_count": 21,
   "metadata": {},
   "outputs": [
    {
     "name": "stdout",
     "output_type": "stream",
     "text": [
      "52\n",
      "62\n",
      "1336\n",
      "428\n",
      "197\n",
      "36\n"
     ]
    }
   ],
   "source": [
    "for t in Targets : \n",
    "    print(len(df[df[t]==1]))"
   ]
  },
  {
   "cell_type": "code",
   "execution_count": 22,
   "metadata": {},
   "outputs": [
    {
     "data": {
      "image/png": "[encoded data removed]",
      "text/plain": [
       "<matplotlib.figure.Figure at 0xb5ed978>"
      ]
     },
     "metadata": {},
     "output_type": "display_data"
    }
   ],
   "source": [
    "#plot as pie the distribution of ads on topics \n",
    "\n",
    "labels = 'LGBT','ISLAM','BLACK','POLICE','HISPANIC','CONSERVATIVE'\n",
    "sizes = [len(df[df['LGBT']==1]),\n",
    "         len(df[df['BLACK']==1]),\n",
    "         len(df[df['POLICE']==1]),\n",
    "         len(df[df['ISLAM']==1]),\n",
    "         len(df[df['HISPANIC']==1]),\n",
    "         len(df[df['CONSERVATIVE']==1]),]\n",
    "\n",
    "fig1, ax1 = plt.subplots()\n",
    "ax1.pie(sizes,  labels=labels, autopct='%1.1f%%',\n",
    "        shadow=True, startangle=90,)\n",
    "ax1.axis('equal')  # Equal aspect ratio ensures that pie is drawn as a circle.\n",
    "\n",
    "plt.show()"
   ]
  },
  {
   "cell_type": "code",
   "execution_count": 23,
   "metadata": {},
   "outputs": [
    {
     "data": {
      "text/plain": [
       "2644"
      ]
     },
     "execution_count": 23,
     "metadata": {},
     "output_type": "execute_result"
    }
   ],
   "source": [
    "len(df)"
   ]
  },
  {
   "cell_type": "code",
   "execution_count": 99,
   "metadata": {},
   "outputs": [],
   "source": [
    "a=len(df[df['AD_IMPRESSIONS']==0])\n",
    "b=len(df[(df['AD_IMPRESSIONS']<= 10) & (df['AD_IMPRESSIONS']>0)] )\n",
    "c = len(df[(df['AD_IMPRESSIONS']<= 100) & (df['AD_IMPRESSIONS']> 10)])\n",
    "d= len(df[(df['AD_IMPRESSIONS']<= 1000) & (df['AD_IMPRESSIONS']> 100)])\n",
    "e= len(df[(df['AD_IMPRESSIONS']<= 10000) & (df['AD_IMPRESSIONS']> 1000)])\n",
    "f= len(df[(df['AD_IMPRESSIONS']<= 100000) & (df['AD_IMPRESSIONS']> 10000)])\n",
    "g= len(df[(df['AD_IMPRESSIONS']> 100000)])"
   ]
  },
  {
   "cell_type": "code",
   "execution_count": 111,
   "metadata": {},
   "outputs": [],
   "source": [
    "y=[a,b,c,d,e,f,g]\n",
    "x=[0,10,100,1000,10000,100000,'>100000']\n",
    "#myInt = len(df)\n",
    "#y= [x / myInt for x in y]"
   ]
  },
  {
   "cell_type": "code",
   "execution_count": 112,
   "metadata": {},
   "outputs": [
    {
     "data": {
      "image/png": "[encoded data removed]",
      "text/plain": [
       "<matplotlib.figure.Figure at 0xb898438>"
      ]
     },
     "metadata": {},
     "output_type": "display_data"
    },
    {
     "data": {
      "text/plain": [
       "Text(0,0.5,'Number of Ads')"
      ]
     },
     "execution_count": 112,
     "metadata": {},
     "output_type": "execute_result"
    }
   ],
   "source": [
    "plt.bar(x,y)\n",
    "plt.show()\n",
    "plt.xlabel('impressions')\n",
    "plt.ylabel('Number of Ads')"
   ]
  },
  {
   "cell_type": "code",
   "execution_count": 113,
   "metadata": {
    "collapsed": true
   },
   "outputs": [],
   "source": [
    "a=len(df[df['AD_CLICKS']==0])\n",
    "b=len(df[(df['AD_CLICKS']== 1)])\n",
    "c= len(df[(df['AD_CLICKS']<= 10) & (df['AD_CLICKS']> 1)])\n",
    "d= len(df[(df['AD_CLICKS']<= 100) & (df['AD_CLICKS']> 10)])\n",
    "e= len(df[(df['AD_CLICKS']<= 1000) & (df['AD_CLICKS']> 100)])\n",
    "f= len(df[(df['AD_CLICKS']<= 10000) & (df['AD_CLICKS']> 1000)])\n",
    "g= len(df[(df['AD_CLICKS']> 10000)])"
   ]
  },
  {
   "cell_type": "code",
   "execution_count": 114,
   "metadata": {
    "collapsed": true
   },
   "outputs": [],
   "source": [
    "y=[a,b,c,d,e,f,g]\n",
    "x=[0,1,10,100,1000,10000,'>10000']\n",
    "#myInt = len(df)\n",
    "#y= [x / myInt for x in y]"
   ]
  },
  {
   "cell_type": "code",
   "execution_count": 116,
   "metadata": {},
   "outputs": [
    {
     "data": {
      "image/png": "[encoded data removed]",
      "text/plain": [
       "<matplotlib.figure.Figure at 0xb93bcc0>"
      ]
     },
     "metadata": {},
     "output_type": "display_data"
    },
    {
     "data": {
      "text/plain": [
       "Text(0,0.5,'Number of Ads')"
      ]
     },
     "execution_count": 116,
     "metadata": {},
     "output_type": "execute_result"
    }
   ],
   "source": [
    "plt.bar(x,y)\n",
    "plt.show()\n",
    "plt.xlabel('Clicks')\n",
    "plt.ylabel('Number of Ads')"
   ]
  },
  {
   "cell_type": "code",
   "execution_count": null,
   "metadata": {
    "collapsed": true
   },
   "outputs": [],
   "source": []
  },
  {
   "cell_type": "code",
   "execution_count": null,
   "metadata": {
    "collapsed": true
   },
   "outputs": [],
   "source": []
  }
 ],
 "metadata": {
  "kernelspec": {
   "display_name": "Python 3",
   "language": "python",
   "name": "python3"
  },
  "language_info": {
   "codemirror_mode": {
    "name": "ipython",
    "version": 3
   },
   "file_extension": ".py",
   "mimetype": "text/x-python",
   "name": "python",
   "nbconvert_exporter": "python",
   "pygments_lexer": "ipython3",
   "version": "3.6.3"
  }
 },
 "nbformat": 4,
 "nbformat_minor": 2
}
