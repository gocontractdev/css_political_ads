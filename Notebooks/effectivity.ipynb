{
 "cells": [
  {
   "cell_type": "markdown",
   "metadata": {
    "collapsed": true,
    "pycharm": {
     "is_executing": false
    }
   },
   "source": [
    "### Effectivity\n",
    "\n",
    "Our Measure for success of the adverts is the Click though Rate which shows us how many people actullay had an interest towards the ad shown to them.\n"
   ]
  },
  {
   "cell_type": "code",
   "execution_count": 1,
   "metadata": {},
   "outputs": [],
   "source": [
    "import pandas as pd\n",
    "import numpy as np\n",
    "import re"
   ]
  },
  {
   "cell_type": "code",
   "execution_count": 2,
   "metadata": {},
   "outputs": [],
   "source": [
    "# reading the dataset\n",
    "\n",
    "dataset = pd.read_csv('../Data/processed_data.csv', sep='\\t') "
   ]
  },
  {
   "cell_type": "code",
   "execution_count": 3,
   "metadata": {},
   "outputs": [],
   "source": [
    "dataset[\"CTR\"] = \"\"\n",
    "\n",
    "for index, row in dataset.iterrows():\n",
    "    if row['AD_CLICKS'] == 0 or row['AD_IMPRESSIONS'] == 0:\n",
    "        dataset.loc[index,'CTR'] = 0\n",
    "    else:\n",
    "        ctrValue = (row['AD_CLICKS'] / row['AD_IMPRESSIONS']) * 100\n",
    "        ctrValue = round(ctrValue, 3)\n",
    "        dataset.loc[index,'CTR'] = ctrValue\n",
    "\n",
    "for index, row in dataset.iterrows(): \n",
    "    spend_list= str(row['AD_SPEND'])\n",
    "    spend_list = spend_list.split()\n",
    "    del(spend_list[-1])   \n",
    "    # aJavaher: why this line was here?\n",
    "    # dataset.loc[index,'AD_SPEND'] = spend_list\n",
    "    if not spend_list :\n",
    "        dataset.loc[index,'AD_SPEND'] = 0\n",
    "    else:\n",
    "        dataset.loc[index,'AD_SPEND'] = float(spend_list[0])"
   ]
  },
  {
   "cell_type": "code",
   "execution_count": 4,
   "metadata": {},
   "outputs": [],
   "source": [
    "# finalize column names\n",
    "\n",
    "# save the processed data \n",
    "dataset.to_csv('../Data/processed_data.csv', sep='\\t', encoding='utf-8')"
   ]
  }
 ],
 "metadata": {
  "kernelspec": {
   "display_name": "Python 3",
   "language": "python",
   "name": "python3"
  },
  "language_info": {
   "codemirror_mode": {
    "name": "ipython",
    "version": 3
   },
   "file_extension": ".py",
   "mimetype": "text/x-python",
   "name": "python",
   "nbconvert_exporter": "python",
   "pygments_lexer": "ipython3",
   "version": "3.6.8"
  }
 },
 "nbformat": 4,
 "nbformat_minor": 1
}
