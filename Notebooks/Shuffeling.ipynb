{
 "cells": [
  {
   "cell_type": "markdown",
   "metadata": {},
   "source": [
    "### Handlabeling Negative-Positive Evaluator\n",
    "\n",
    "\n",
    "Machine Learning Approach:\n",
    "\n"
   ]
  },
  {
   "cell_type": "code",
   "execution_count": 1,
   "metadata": {},
   "outputs": [],
   "source": [
    "from vaderSentiment.vaderSentiment import SentimentIntensityAnalyzer\n",
    "import time\n",
    "import pandas as pd\n",
    "import numpy as np\n",
    "import re\n",
    "import math\n",
    "import statistics\n",
    "from hatesonar import Sonar"
   ]
  },
  {
   "cell_type": "code",
   "execution_count": 2,
   "metadata": {},
   "outputs": [],
   "source": [
    "def mostCommon(li):\n",
    "    st = set(li)\n",
    "    mx = -1\n",
    "    for each in st:\n",
    "        temp = li.count(each)\n",
    "        if mx < temp:\n",
    "            mx = temp \n",
    "            h = each \n",
    "    return h"
   ]
  },
  {
   "cell_type": "code",
   "execution_count": 3,
   "metadata": {},
   "outputs": [],
   "source": [
    "#reading the labeling csv\n",
    "data = pd.read_csv('../Data/dataset_handlabeling.csv', sep=',') \n",
    "\n",
    "# analyze\n",
    "analyzer = SentimentIntensityAnalyzer() \n",
    "# load learnables\n",
    "voters = list(data.columns.values)\n",
    "voters.remove('AD_TEXT')\n",
    "\n",
    "for index, row in data.iterrows():\n",
    "    decisions = []\n",
    "    for voter in voters:\n",
    "        decisions.append(row[voter].lower())\n",
    "    convergenceValue = mostCommon(decisions)\n",
    "    data.loc[index, 'vote'] = convergenceValue\n",
    "    "
   ]
  },
  {
   "cell_type": "code",
   "execution_count": 15,
   "metadata": {},
   "outputs": [
    {
     "name": "stdout",
     "output_type": "stream",
     "text": [
      "Accuracy Trail 85.71428571428571  %\n",
      "Accuracy Trail 85.71428571428571  %\n",
      "Accuracy Trail 50.0  %\n",
      "Accuracy Trail 83.33333333333334  %\n",
      "Accuracy Trail 71.42857142857143  %\n",
      "Accuracy Trail 75.0  %\n",
      "Accuracy Trail 62.5  %\n",
      "Accuracy Trail 75.0  %\n",
      "Accuracy Trail 66.66666666666666  %\n",
      "Accuracy Trail 71.42857142857143  %\n",
      "Accuracy Trail 71.42857142857143  %\n",
      "Accuracy Trail 62.5  %\n",
      "Accuracy Trail 100.0  %\n",
      "Accuracy Trail 83.33333333333334  %\n",
      "Accuracy Trail 75.0  %\n",
      "Accuracy Trail 85.71428571428571  %\n",
      "Accuracy Trail 77.77777777777779  %\n",
      "Accuracy Trail 83.33333333333334  %\n",
      "Accuracy Trail 50.0  %\n",
      "Accuracy Trail 85.71428571428571  %\n"
     ]
    }
   ],
   "source": [
    "\n",
    "# 10 random shuffel for 10 random samples\n",
    "averageAccuracy = []\n",
    "averageRecall = []\n",
    "\n",
    "for x in range (20):\n",
    "    selectedData = data.sample(12)\n",
    "    # dictionary analyzer\n",
    "    selectedData['pos'] = np.nan\n",
    "    selectedData['neg'] = np.nan\n",
    "    selectedData['neu'] = np.nan\n",
    "    selectedData['compound'] = np.nan\n",
    "    selectedData['flag'] = np.nan\n",
    "    \n",
    "    matchCount = 0\n",
    "    totalCount = 0\n",
    "    for index, row in selectedData.iterrows():\n",
    "        # skip empty texts\n",
    "        if pd.isnull(row['AD_TEXT']):\n",
    "            continue\n",
    "\n",
    "        # calculate the senti-index for each advert text\n",
    "        tempRespond = analyzer.polarity_scores(row['AD_TEXT'])    \n",
    "\n",
    "        selectedData.loc[index, 'pos'] = tempRespond['pos']\n",
    "        selectedData.loc[index, 'neg'] = tempRespond['neg']\n",
    "        selectedData.loc[index, 'neu'] = tempRespond['neu']\n",
    "        selectedData.loc[index, 'compound'] = tempRespond['compound']\n",
    "\n",
    "        # make the flags\n",
    "        if 0.5 <= tempRespond['compound']  and tempRespond['compound'] <= 1:\n",
    "            selectedData.loc[index, 'flag'] = 'positive'\n",
    "        elif -0.5 < tempRespond['compound']  and tempRespond['compound'] < 0.5:\n",
    "            selectedData.loc[index, 'flag'] = 'neutral'\n",
    "        else:\n",
    "            selectedData.loc[index, 'flag'] = 'negative'\n",
    "        \n",
    "        # accuracy ignoring neutral votes\n",
    "        if selectedData.loc[index, 'flag'] == 'neutral': continue\n",
    "        if selectedData.loc[index, 'flag'] == row['vote']:\n",
    "            matchCount = matchCount + 1\n",
    "        totalCount = totalCount + 1\n",
    "    \n",
    "    accuracy = matchCount / totalCount * 100\n",
    "    print( 'Accuracy Trail', accuracy, ' %' )\n",
    "    averageAccuracy.append(accuracy)\n",
    "\n"
   ]
  },
  {
   "cell_type": "code",
   "execution_count": 16,
   "metadata": {},
   "outputs": [
    {
     "name": "stdout",
     "output_type": "stream",
     "text": [
      "Average Accuracy 75.07936507936508  %\n"
     ]
    }
   ],
   "source": [
    "print ('Average Accuracy',  statistics.mean(averageAccuracy) , ' %')"
   ]
  }
 ],
 "metadata": {
  "kernelspec": {
   "display_name": "Python 3",
   "language": "python",
   "name": "python3"
  },
  "language_info": {
   "codemirror_mode": {
    "name": "ipython",
    "version": 3
   },
   "file_extension": ".py",
   "mimetype": "text/x-python",
   "name": "python",
   "nbconvert_exporter": "python",
   "pygments_lexer": "ipython3",
   "version": "3.6.8"
  }
 },
 "nbformat": 4,
 "nbformat_minor": 2
}
