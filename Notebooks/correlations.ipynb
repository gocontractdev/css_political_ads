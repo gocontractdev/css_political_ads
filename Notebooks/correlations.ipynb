{
 "cells": [
  {
   "cell_type": "code",
   "execution_count": 1,
   "metadata": {},
   "outputs": [],
   "source": [
    "import pandas as pd\n",
    "import numpy as np\n",
    "import re\n",
    "import matplotlib.pyplot as plt"
   ]
  },
  {
   "cell_type": "code",
   "execution_count": 2,
   "metadata": {},
   "outputs": [],
   "source": [
    "# reading the dataset\n",
    "\n",
    "data = pd.read_csv('../Data/processed_data.csv', sep='\\t') \n",
    "\n",
    "averageCTRList = {}"
   ]
  },
  {
   "cell_type": "code",
   "execution_count": 3,
   "metadata": {},
   "outputs": [
    {
     "name": "stdout",
     "output_type": "stream",
     "text": [
      "- Ads: 871\n",
      "Negative Mean CTR: {'negative': 7.475675086107922}\n"
     ]
    }
   ],
   "source": [
    "# negatvie section:\n",
    "tempClass = data.loc[ (data['compound_measure'] >= -1) &  (data['compound_measure'] <= -0.5)  ]\n",
    "print ('- Ads:', len(tempClass))\n",
    "\n",
    "averageCTRList['negative'] = tempClass['CTR'].mean()\n",
    "print('Negative Mean CTR:', averageCTRList)"
   ]
  },
  {
   "cell_type": "code",
   "execution_count": 4,
   "metadata": {},
   "outputs": [
    {
     "name": "stdout",
     "output_type": "stream",
     "text": [
      "~ Ads: 1414\n",
      "Neutral Mean CTR: {'negative': 7.475675086107922, 'neutral': 8.19502404526167}\n"
     ]
    }
   ],
   "source": [
    "# negatvie section:\n",
    "tempClass = data.loc[ (data['compound_measure'] > - 0.5) &  (data['compound_measure'] < 0.5)  ]\n",
    "print ('~ Ads:', len(tempClass))\n",
    "\n",
    "averageCTRList['neutral'] = tempClass['CTR'].mean()\n",
    "print('Neutral Mean CTR:', averageCTRList)"
   ]
  },
  {
   "cell_type": "code",
   "execution_count": 5,
   "metadata": {},
   "outputs": [
    {
     "name": "stdout",
     "output_type": "stream",
     "text": [
      "+ Ads: 1202\n",
      "Positive Mean CTR: {'negative': 7.475675086107922, 'neutral': 8.19502404526167, 'positive': 6.885985024958402}\n"
     ]
    }
   ],
   "source": [
    "# posititve section:\n",
    "tempClass = data.loc[ (data['compound_measure'] >=  0.5) &  (data['compound_measure'] <= 1)  ]\n",
    "print ('+ Ads:', len(tempClass))\n",
    "\n",
    "averageCTRList['positive'] = tempClass['CTR'].mean()\n",
    "print('Positive Mean CTR:', averageCTRList)"
   ]
  },
  {
   "cell_type": "code",
   "execution_count": 6,
   "metadata": {},
   "outputs": [
    {
     "data": {
      "text/plain": [
       "-0.03860203933220321"
      ]
     },
     "execution_count": 6,
     "metadata": {},
     "output_type": "execute_result"
    }
   ],
   "source": [
    "# should we make negative ads?\n",
    "\n",
    "data['compound_measure'].corr(data['CTR'])"
   ]
  },
  {
   "cell_type": "code",
   "execution_count": 7,
   "metadata": {},
   "outputs": [
    {
     "data": {
      "text/html": [
       "<div>\n",
       "<style scoped>\n",
       "    .dataframe tbody tr th:only-of-type {\n",
       "        vertical-align: middle;\n",
       "    }\n",
       "\n",
       "    .dataframe tbody tr th {\n",
       "        vertical-align: top;\n",
       "    }\n",
       "\n",
       "    .dataframe thead th {\n",
       "        text-align: right;\n",
       "    }\n",
       "</style>\n",
       "<table border=\"1\" class=\"dataframe\">\n",
       "  <thead>\n",
       "    <tr style=\"text-align: right;\">\n",
       "      <th></th>\n",
       "      <th>CTR</th>\n",
       "      <th>compound_measure</th>\n",
       "    </tr>\n",
       "  </thead>\n",
       "  <tbody>\n",
       "    <tr>\n",
       "      <th>CTR</th>\n",
       "      <td>1.000000</td>\n",
       "      <td>-0.038602</td>\n",
       "    </tr>\n",
       "    <tr>\n",
       "      <th>compound_measure</th>\n",
       "      <td>-0.038602</td>\n",
       "      <td>1.000000</td>\n",
       "    </tr>\n",
       "  </tbody>\n",
       "</table>\n",
       "</div>"
      ],
      "text/plain": [
       "                       CTR  compound_measure\n",
       "CTR               1.000000         -0.038602\n",
       "compound_measure -0.038602          1.000000"
      ]
     },
     "execution_count": 7,
     "metadata": {},
     "output_type": "execute_result"
    }
   ],
   "source": [
    "histogram_intersection = lambda a, b: np.minimum(a, b).sum().round(decimals=1)\n",
    "toComparison = data[['CTR','compound_measure']]\n",
    "\n",
    "#means that two variables don't have any linear relation whatsoever. \n",
    "#However, some non linear relation may exist between the two variables.\n",
    "\n",
    "toComparison.corr(method='pearson')"
   ]
  },
  {
   "cell_type": "code",
   "execution_count": 8,
   "metadata": {},
   "outputs": [
    {
     "data": {
      "text/html": [
       "<div>\n",
       "<style scoped>\n",
       "    .dataframe tbody tr th:only-of-type {\n",
       "        vertical-align: middle;\n",
       "    }\n",
       "\n",
       "    .dataframe tbody tr th {\n",
       "        vertical-align: top;\n",
       "    }\n",
       "\n",
       "    .dataframe thead th {\n",
       "        text-align: right;\n",
       "    }\n",
       "</style>\n",
       "<table border=\"1\" class=\"dataframe\">\n",
       "  <thead>\n",
       "    <tr style=\"text-align: right;\">\n",
       "      <th></th>\n",
       "      <th>CTR</th>\n",
       "      <th>compound_measure</th>\n",
       "    </tr>\n",
       "  </thead>\n",
       "  <tbody>\n",
       "    <tr>\n",
       "      <th>CTR</th>\n",
       "      <td>1.000000</td>\n",
       "      <td>-0.022401</td>\n",
       "    </tr>\n",
       "    <tr>\n",
       "      <th>compound_measure</th>\n",
       "      <td>-0.022401</td>\n",
       "      <td>1.000000</td>\n",
       "    </tr>\n",
       "  </tbody>\n",
       "</table>\n",
       "</div>"
      ],
      "text/plain": [
       "                       CTR  compound_measure\n",
       "CTR               1.000000         -0.022401\n",
       "compound_measure -0.022401          1.000000"
      ]
     },
     "execution_count": 8,
     "metadata": {},
     "output_type": "execute_result"
    }
   ],
   "source": [
    "toComparison.corr(method='kendall')"
   ]
  },
  {
   "cell_type": "code",
   "execution_count": 9,
   "metadata": {},
   "outputs": [
    {
     "data": {
      "text/html": [
       "<div>\n",
       "<style scoped>\n",
       "    .dataframe tbody tr th:only-of-type {\n",
       "        vertical-align: middle;\n",
       "    }\n",
       "\n",
       "    .dataframe tbody tr th {\n",
       "        vertical-align: top;\n",
       "    }\n",
       "\n",
       "    .dataframe thead th {\n",
       "        text-align: right;\n",
       "    }\n",
       "</style>\n",
       "<table border=\"1\" class=\"dataframe\">\n",
       "  <thead>\n",
       "    <tr style=\"text-align: right;\">\n",
       "      <th></th>\n",
       "      <th>CTR</th>\n",
       "      <th>compound_measure</th>\n",
       "    </tr>\n",
       "  </thead>\n",
       "  <tbody>\n",
       "    <tr>\n",
       "      <th>CTR</th>\n",
       "      <td>1.000000</td>\n",
       "      <td>-0.032765</td>\n",
       "    </tr>\n",
       "    <tr>\n",
       "      <th>compound_measure</th>\n",
       "      <td>-0.032765</td>\n",
       "      <td>1.000000</td>\n",
       "    </tr>\n",
       "  </tbody>\n",
       "</table>\n",
       "</div>"
      ],
      "text/plain": [
       "                       CTR  compound_measure\n",
       "CTR               1.000000         -0.032765\n",
       "compound_measure -0.032765          1.000000"
      ]
     },
     "execution_count": 9,
     "metadata": {},
     "output_type": "execute_result"
    }
   ],
   "source": [
    "toComparison.corr(method='spearman')"
   ]
  }
 ],
 "metadata": {
  "kernelspec": {
   "display_name": "Python 3",
   "language": "python",
   "name": "python3"
  },
  "language_info": {
   "codemirror_mode": {
    "name": "ipython",
    "version": 3
   },
   "file_extension": ".py",
   "mimetype": "text/x-python",
   "name": "python",
   "nbconvert_exporter": "python",
   "pygments_lexer": "ipython3",
   "version": "3.6.8"
  }
 },
 "nbformat": 4,
 "nbformat_minor": 1
}
