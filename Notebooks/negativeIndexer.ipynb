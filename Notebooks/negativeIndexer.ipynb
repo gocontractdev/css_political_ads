{
 "cells": [
  {
   "cell_type": "markdown",
   "metadata": {},
   "source": [
    "### Negative Indexer\n",
    "\n",
    "This semi-supervised approach seem to be working fine"
   ]
  },
  {
   "cell_type": "code",
   "execution_count": null,
   "metadata": {},
   "outputs": [],
   "source": [
    "from vaderSentiment.vaderSentiment import SentimentIntensityAnalyzer\n",
    "import time\n",
    "import pandas as pd\n",
    "import numpy as np\n",
    "import re\n",
    "from hatesonar import Sonar"
   ]
  },
  {
   "cell_type": "code",
   "execution_count": 2,
   "metadata": {},
   "outputs": [],
   "source": [
    "analyzer = SentimentIntensityAnalyzer() \n"
   ]
  },
  {
   "cell_type": "code",
   "execution_count": 3,
   "metadata": {},
   "outputs": [],
   "source": [
    "# reading the dataset\n",
    "\n",
    "data = pd.read_csv('../Data/data_IRA_Ads.csv', sep='\\t') \n",
    "\n",
    "data['pos'] = np.nan\n",
    "data['neg'] = np.nan\n",
    "data['neu'] = np.nan\n",
    "data['compound'] = np.nan\n",
    "\n",
    "for index, eachAdText in data['AD_TEXT'].iteritems():\n",
    "    # skip empty texts\n",
    "    if pd.isnull(eachAdText):\n",
    "        continue\n",
    "        \n",
    "    # calculate the senti-index for each advert text\n",
    "    tempRespond = analyzer.polarity_scores(eachAdText)    \n",
    "    \n",
    "    data.loc[index, 'pos'] = tempRespond['pos']\n",
    "    data.loc[index, 'neg'] = tempRespond['neg']\n",
    "    data.loc[index, 'neu'] = tempRespond['neu']\n",
    "    data.loc[index, 'compound'] = tempRespond['compound']"
   ]
  },
  {
   "cell_type": "code",
   "execution_count": 4,
   "metadata": {},
   "outputs": [
    {
     "name": "stdout",
     "output_type": "stream",
     "text": [
      "      AD_ID    pos    neg    neu  compound\n",
      "0         1  0.000  0.000  1.000    0.0000\n",
      "1         2  0.029  0.261  0.710   -0.8880\n",
      "2         3  0.259  0.000  0.741    0.9062\n",
      "3         4  0.169  0.048  0.784    0.6247\n",
      "4         5  0.000  0.000  1.000    0.0000\n",
      "5         6  0.000  0.000  1.000    0.0000\n",
      "6         7  0.000  0.000  1.000    0.0000\n",
      "7         8  0.153  0.000  0.847    0.4710\n",
      "8         9  0.245  0.064  0.692    0.7777\n",
      "9        10  0.164  0.107  0.728    0.1260\n",
      "10       11  0.207  0.000  0.793    0.9151\n",
      "11       12  0.279  0.000  0.721    0.8999\n",
      "12       13  0.280  0.050  0.669    0.9508\n",
      "13       14  0.116  0.137  0.747   -0.6252\n",
      "14       15  0.200  0.000  0.800    0.7170\n",
      "15       16  0.153  0.000  0.847    0.4019\n",
      "16       17  0.156  0.235  0.609   -0.6654\n",
      "17       18  0.156  0.235  0.609   -0.6654\n",
      "18       19  0.212  0.000  0.788    0.5411\n",
      "19       20  0.098  0.043  0.859    0.5697\n",
      "20       21  0.024  0.290  0.686   -0.9763\n",
      "21       22  0.000  0.000  1.000    0.0000\n",
      "22       23  0.113  0.051  0.836    0.3549\n",
      "23       24  0.113  0.051  0.836    0.3549\n",
      "24       25  0.526  0.000  0.474    0.8353\n",
      "25       26  0.358  0.000  0.642    0.7707\n",
      "26       27  0.114  0.174  0.712   -0.7601\n",
      "27       28  0.137  0.193  0.670   -0.3935\n",
      "28       29  0.000  0.115  0.885   -0.6943\n",
      "29       30  0.144  0.026  0.830    0.7711\n",
      "...     ...    ...    ...    ...       ...\n",
      "3487   3490  0.264  0.084  0.652    0.6900\n",
      "3488   3491  0.264  0.084  0.652    0.6900\n",
      "3489   3492  0.272  0.083  0.644    0.7170\n",
      "3490   3493  0.272  0.083  0.644    0.7170\n",
      "3491   3494  0.272  0.083  0.644    0.7170\n",
      "3492   3495  0.264  0.084  0.652    0.6900\n",
      "3493   3496  0.264  0.084  0.652    0.6900\n",
      "3494   3497  0.272  0.083  0.644    0.7170\n",
      "3495   3498  0.344  0.118  0.538    0.6351\n",
      "3496   3499  0.344  0.118  0.538    0.6351\n",
      "3497   3500  0.344  0.118  0.538    0.6351\n",
      "3498   3501  0.344  0.118  0.538    0.6351\n",
      "3499   3502  0.000  0.403  0.597   -0.4019\n",
      "3500   3503  0.103  0.049  0.849    0.8625\n",
      "3501   3504  0.144  0.000  0.856    0.4019\n",
      "3502   3505  0.056  0.038  0.905    0.2714\n",
      "3503   3506  0.397  0.000  0.603    0.9864\n",
      "3504   3507  0.031  0.094  0.875   -0.6808\n",
      "3505   3508  0.045  0.000  0.955    0.4753\n",
      "3506   3509  0.233  0.077  0.690    0.8750\n",
      "3507   3510  0.063  0.000  0.937    0.3736\n",
      "3508   3511  0.096  0.143  0.761   -0.5930\n",
      "3509   3512  0.087  0.062  0.851    0.6686\n",
      "3510   3513  0.145  0.000  0.855    0.8807\n",
      "3511   3514  0.156  0.161  0.683   -0.3487\n",
      "3512   3515  0.065  0.191  0.744   -0.9610\n",
      "3513   3516  0.000  0.333  0.667   -0.8176\n",
      "3514   3517  0.170  0.219  0.611   -0.8124\n",
      "3515   3518  0.000  0.197  0.803   -0.4926\n",
      "3516   3519  0.700  0.000  0.300    0.7896\n",
      "\n",
      "[3517 rows x 5 columns]\n"
     ]
    }
   ],
   "source": [
    "print(data[['AD_ID', 'pos', 'neg', 'neu', 'compound']])  "
   ]
  },
  {
   "cell_type": "code",
   "execution_count": 14,
   "metadata": {},
   "outputs": [
    {
     "name": "stdout",
     "output_type": "stream",
     "text": [
      "- Ads: 871\n",
      "~ Ads: 1414\n",
      "+ Ads: 1202\n"
     ]
    }
   ],
   "source": [
    "# find classes of ads\n",
    "tempClass = data.loc[ (data['compound'] >= -1) &  (data['compound'] <= -0.5)  ]\n",
    "print ('- Ads:', len(tempClass))\n",
    "\n",
    "# find classes of ads\n",
    "tempClass = data.loc[ (data['compound'] > -0.5) &  (data['compound'] < 0.5)  ]\n",
    "print ('~ Ads:', len(tempClass))\n",
    "\n",
    "# find classes of ads\n",
    "tempClass = data.loc[ (data['compound'] >= 0.5) &  (data['compound'] <= 1)  ]\n",
    "print ('+ Ads:', len(tempClass))"
   ]
  }
 ],
 "metadata": {
  "kernelspec": {
   "display_name": "Python 3",
   "language": "python",
   "name": "python3"
  },
  "language_info": {
   "codemirror_mode": {
    "name": "ipython",
    "version": 3
   },
   "file_extension": ".py",
   "mimetype": "text/x-python",
   "name": "python",
   "nbconvert_exporter": "python",
   "pygments_lexer": "ipython3",
   "version": "3.6.8"
  }
 },
 "nbformat": 4,
 "nbformat_minor": 2
}
