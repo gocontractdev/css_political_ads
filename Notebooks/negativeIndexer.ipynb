{
 "cells": [
  {
   "cell_type": "markdown",
   "metadata": {},
   "source": [
    "### Negative Indexer\n",
    "\n",
    "\n",
    "This semi-supervised approach seem to be working fine\n",
    "\n",
    "\n",
    "** aJavaher: this is the working version."
   ]
  },
  {
   "cell_type": "code",
   "execution_count": 1,
   "metadata": {},
   "outputs": [],
   "source": [
    "from vaderSentiment.vaderSentiment import SentimentIntensityAnalyzer\n",
    "import time\n",
    "import pandas as pd\n",
    "import numpy as np\n",
    "import re\n",
    "from hatesonar import Sonar"
   ]
  },
  {
   "cell_type": "code",
   "execution_count": 2,
   "metadata": {},
   "outputs": [],
   "source": [
    "analyzer = SentimentIntensityAnalyzer() "
   ]
  },
  {
   "cell_type": "code",
   "execution_count": 3,
   "metadata": {},
   "outputs": [],
   "source": [
    "# reading the dataset\n",
    "\n",
    "data = pd.read_csv('../Data/data_IRA_Ads.csv', sep='\\t') \n",
    "\n",
    "data['pos'] = np.nan\n",
    "data['neg'] = np.nan\n",
    "data['neu'] = np.nan\n",
    "data['compound'] = np.nan\n",
    "data['flag'] = np.nan\n",
    "\n",
    "for index, eachAdText in data['AD_TEXT'].iteritems():\n",
    "    # skip empty texts\n",
    "    if pd.isnull(eachAdText):\n",
    "        continue\n",
    "        \n",
    "    # calculate the senti-index for each advert text\n",
    "    tempRespond = analyzer.polarity_scores(eachAdText)    \n",
    "    \n",
    "    data.loc[index, 'pos'] = tempRespond['pos']\n",
    "    data.loc[index, 'neg'] = tempRespond['neg']\n",
    "    data.loc[index, 'neu'] = tempRespond['neu']\n",
    "    data.loc[index, 'compound'] = tempRespond['compound']\n",
    "    \n",
    "    # make the flags\n",
    "    if 0.5 <= tempRespond['compound']  and tempRespond['compound'] <= 1:\n",
    "        data.loc[index, 'flag'] = 'positive'\n",
    "    elif -0.5 < tempRespond['compound']  and tempRespond['compound'] < 0.5:\n",
    "        data.loc[index, 'flag'] = 'neutral'\n",
    "    else:\n",
    "        data.loc[index, 'flag'] = 'negative'\n",
    "    \n",
    "    "
   ]
  },
  {
   "cell_type": "code",
   "execution_count": 4,
   "metadata": {},
   "outputs": [],
   "source": [
    "#print(data[['AD_ID', 'pos', 'neg', 'neu', 'compound']])  "
   ]
  },
  {
   "cell_type": "code",
   "execution_count": 5,
   "metadata": {},
   "outputs": [
    {
     "name": "stdout",
     "output_type": "stream",
     "text": [
      "- Ads: 871\n",
      "~ Ads: 1414\n",
      "+ Ads: 1202\n"
     ]
    }
   ],
   "source": [
    "# find classes of ads\n",
    "tempClass = data.loc[ (data['compound'] >= -1) &  (data['compound'] <= -0.5)  ]\n",
    "print ('- Ads:', len(tempClass))\n",
    "\n",
    "# find classes of ads\n",
    "tempClass = data.loc[ (data['compound'] > -0.5) &  (data['compound'] < 0.5)  ]\n",
    "print ('~ Ads:', len(tempClass))\n",
    "\n",
    "# find classes of ads\n",
    "tempClass = data.loc[ (data['compound'] >= 0.5) &  (data['compound'] <= 1)  ]\n",
    "print ('+ Ads:', len(tempClass))"
   ]
  },
  {
   "cell_type": "code",
   "execution_count": 8,
   "metadata": {},
   "outputs": [],
   "source": [
    "# finalize column names\n",
    "data.rename(columns={'pos':'positivity_index'}, inplace=True)\n",
    "data.rename(columns={'neg':'negativity_index'}, inplace=True)\n",
    "data.rename(columns={'neu':'neutrality_index'}, inplace=True)\n",
    "data.rename(columns={'compound':'compound_measure'}, inplace=True)\n",
    "\n",
    "\n",
    "\n",
    "# save the processed data \n",
    "data.to_csv('../Data/processed_data.csv', sep='\\t', encoding='utf-8')"
   ]
  }
 ],
 "metadata": {
  "kernelspec": {
   "display_name": "Python 3",
   "language": "python",
   "name": "python3"
  },
  "language_info": {
   "codemirror_mode": {
    "name": "ipython",
    "version": 3
   },
   "file_extension": ".py",
   "mimetype": "text/x-python",
   "name": "python",
   "nbconvert_exporter": "python",
   "pygments_lexer": "ipython3",
   "version": "3.6.8"
  }
 },
 "nbformat": 4,
 "nbformat_minor": 2
}
