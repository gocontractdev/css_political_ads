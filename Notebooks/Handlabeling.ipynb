{
 "cells": [
  {
   "cell_type": "markdown",
   "metadata": {},
   "source": [
    "### Handlabeling Negative-Positive Evaluator\n",
    "\n",
    "\n",
    "This is a manual approach / we comapre its success with dictionary approach:\n",
    "\n",
    "** aJavaher: This is to test out validation of dictionary approach.\n",
    "\n",
    "\n",
    "> Our model first considers text as a bag of words. Here word as combination of letters and digits that are separated by: {SPACE ! , . / : ; ? \" ' # - _ + } that can have positive/neutral/negative sentiment.\n",
    "\n",
    "\n",
    "> A negative/neutra/positive vote is considered based on perecentage of common view in the readers. If the votes are different opinions the effect of the vote will be reduced. (I.E. it would be a weak negative for example).\n",
    "\n",
    "> For simplicity, we didn't include confidence measure of the words.\n"
   ]
  },
  {
   "cell_type": "code",
   "execution_count": 1,
   "metadata": {},
   "outputs": [],
   "source": [
    "from vaderSentiment.vaderSentiment import SentimentIntensityAnalyzer\n",
    "import time\n",
    "import pandas as pd\n",
    "import numpy as np\n",
    "import re\n",
    "import math\n",
    "from hatesonar import Sonar"
   ]
  },
  {
   "cell_type": "code",
   "execution_count": 2,
   "metadata": {},
   "outputs": [],
   "source": [
    "analyzer = SentimentIntensityAnalyzer() \n",
    "# reading the dataset\n",
    "ActualData = pd.read_csv('../Data/data_IRA_Ads.csv', sep='\\t') \n",
    "# dictionary analyzer\n",
    "ActualData['pos'] = np.nan\n",
    "ActualData['neg'] = np.nan\n",
    "ActualData['neu'] = np.nan\n",
    "ActualData['compound'] = np.nan\n",
    "ActualData['flag'] = np.nan\n",
    "\n",
    "for index, eachAdText in ActualData['AD_TEXT'].iteritems():\n",
    "    # skip empty texts\n",
    "    if pd.isnull(eachAdText):\n",
    "        continue\n",
    "        \n",
    "    # calculate the senti-index for each advert text\n",
    "    tempRespond = analyzer.polarity_scores(eachAdText)    \n",
    "    \n",
    "    ActualData.loc[index, 'pos'] = tempRespond['pos']\n",
    "    ActualData.loc[index, 'neg'] = tempRespond['neg']\n",
    "    ActualData.loc[index, 'neu'] = tempRespond['neu']\n",
    "    ActualData.loc[index, 'compound'] = tempRespond['compound']\n",
    "    \n",
    "    # make the flags\n",
    "    if 0.5 <= tempRespond['compound']  and tempRespond['compound'] <= 1:\n",
    "        ActualData.loc[index, 'flag'] = 'positive'\n",
    "    elif -0.5 < tempRespond['compound']  and tempRespond['compound'] < 0.5:\n",
    "        ActualData.loc[index, 'flag'] = 'neutral'\n",
    "    else:\n",
    "        ActualData.loc[index, 'flag'] = 'negative'"
   ]
  },
  {
   "cell_type": "markdown",
   "metadata": {},
   "source": [
    "A: Word model: Decision about positive/negativeness based on words (word by word measure)"
   ]
  },
  {
   "cell_type": "code",
   "execution_count": 3,
   "metadata": {
    "pycharm": {
     "is_executing": false
    }
   },
   "outputs": [],
   "source": [
    "def mostCommon(li):\n",
    "    st = set(li)\n",
    "    mx = -1\n",
    "    for each in st:\n",
    "        temp = li.count(each)\n",
    "        if mx < temp:\n",
    "            mx = temp \n",
    "            h = each \n",
    "    return h"
   ]
  },
  {
   "cell_type": "code",
   "execution_count": 4,
   "metadata": {},
   "outputs": [],
   "source": [
    "#reading the labeling csv\n",
    "data = pd.read_csv('../Data/dataset_handlabeling.csv', sep=',') \n",
    "#list of voters\n",
    "voters = list(data.columns.values)\n",
    "voters.remove('AD_TEXT')\n",
    "data['vote'] = np.nan\n",
    "data['percentage'] = np.nan\n",
    "\n",
    "#analyze row by row\n",
    "for index, row in data.iterrows():\n",
    "    decisions = []\n",
    "    for voter in voters:\n",
    "        decisions.append(row[voter].lower())\n",
    "    convergenceValue = mostCommon(decisions)\n",
    "    convergencePecentage = decisions.count(convergenceValue) / len(decisions)\n",
    "    data.loc[index, 'vote'] = convergenceValue\n",
    "    data.loc[index, 'percentage'] = convergencePecentage\n",
    "    "
   ]
  },
  {
   "cell_type": "code",
   "execution_count": 5,
   "metadata": {},
   "outputs": [],
   "source": [
    "# make bag of words vote\n",
    "bagOfWords = {}\n",
    "for index, row in data.iterrows():\n",
    "    text = row['AD_TEXT'].lower()\n",
    "    words = re.split('\\t| |;|,|\\*|\\n|!|\\.|:|,|/|\"|~|\\#|\\?', text)\n",
    "    key = row['vote']\n",
    "    for word in words:\n",
    "        if '' == word: continue\n",
    "        if word in bagOfWords:\n",
    "            bagOfWords[word][key] = bagOfWords[word][key] + 1\n",
    "            if (bagOfWords[word][key] > bagOfWords[word][bagOfWords[word]['common']]):\n",
    "                bagOfWords[word]['common'] = key \n",
    "        else:\n",
    "            bagOfWords[word] = {'negative':0, 'positive': 0, 'neutral': 0, 'common': key}\n",
    "            bagOfWords[word][key] = 1"
   ]
  },
  {
   "cell_type": "code",
   "execution_count": 6,
   "metadata": {},
   "outputs": [],
   "source": [
    "# give a vote for the whole sentence:\n",
    "for index, row in data.iterrows():\n",
    "    text = row['AD_TEXT'].lower()\n",
    "    words = re.split('\\t| |;|,|\\*|\\n|!|\\.|:|,|/|\"|~|\\#|\\?', text)\n",
    "    key = row['vote']\n",
    "    for word in words:\n",
    "        if '' == word: continue\n",
    "        if word in bagOfWords:\n",
    "            bagOfWords[word][key] = bagOfWords[word][key] + 1\n",
    "            if (bagOfWords[word][key] > bagOfWords[word][bagOfWords[word]['common']]):\n",
    "                bagOfWords[word]['common'] = key \n",
    "        else:\n",
    "            bagOfWords[word] = {'negative':0, 'positive': 0, 'neutral': 0, 'common': key}\n",
    "            bagOfWords[word][key] = 1"
   ]
  },
  {
   "cell_type": "code",
   "execution_count": 7,
   "metadata": {},
   "outputs": [],
   "source": [
    "# evaluate result of word model\n",
    "for index, row in ActualData.iterrows():\n",
    "    if pd.isnull(row['AD_TEXT']):\n",
    "        continue \n",
    "    text = row['AD_TEXT'].lower()\n",
    "    words = re.split('\\t| |;|,|\\*|\\n|!|\\.|:|,|/|\"|~|\\#|\\?', text)\n",
    "    textVote = {'negative':0, 'positive': 0, 'neutral': 0, 'common': 'neutral'}\n",
    "    for word in words:\n",
    "        if word in bagOfWords:\n",
    "            myVote = bagOfWords[word]['common']\n",
    "            textVote[myVote] = textVote[myVote] + 1\n",
    "            if (textVote[myVote] > textVote[textVote['common']] ):\n",
    "                textVote['common'] = myVote                \n",
    "    ActualData.loc[index, 'handVote'] = textVote['common'] \n",
    "                "
   ]
  },
  {
   "cell_type": "code",
   "execution_count": 8,
   "metadata": {},
   "outputs": [],
   "source": [
    "# how much do they agree\n",
    "partion = 0 \n",
    "total = 0\n",
    "for index, row in ActualData.iterrows():\n",
    "    if pd.isnull(row['AD_TEXT']):\n",
    "        continue\n",
    "    total = total + 1\n",
    "    if row['flag'] ==  row['handVote']:\n",
    "        partion = partion + 1"
   ]
  },
  {
   "cell_type": "code",
   "execution_count": 9,
   "metadata": {},
   "outputs": [
    {
     "name": "stdout",
     "output_type": "stream",
     "text": [
      "With 118 known adverts out of  3487\n",
      "Similar Votes: 1473  out of  3487\n",
      "Percentage of Agreeing 42.242615428735306 %\n"
     ]
    }
   ],
   "source": [
    "agreeing = 0 \n",
    "\n",
    "if 0 != total:\n",
    "    agreeing = partion / total * 100\n",
    "\n",
    "print ('With 118 known adverts out of ', total)\n",
    "print ('Similar Votes:' , partion , ' out of ' , total)\n",
    "print ('Percentage of Agreeing' , agreeing , '%')\n"
   ]
  }
 ],
 "metadata": {
  "kernelspec": {
   "display_name": "Python 3",
   "language": "python",
   "name": "python3"
  },
  "language_info": {
   "codemirror_mode": {
    "name": "ipython",
    "version": 3
   },
   "file_extension": ".py",
   "mimetype": "text/x-python",
   "name": "python",
   "nbconvert_exporter": "python",
   "pygments_lexer": "ipython3",
   "version": "3.6.8"
  }
 },
 "nbformat": 4,
 "nbformat_minor": 2
}
