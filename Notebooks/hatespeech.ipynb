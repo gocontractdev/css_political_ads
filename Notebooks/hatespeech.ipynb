{
 "cells": [
  {
   "cell_type": "markdown",
   "metadata": {},
   "source": [
    "### Hatespeech Detector\n",
    "\n",
    "* In this section we try to make an anylze over how common is hatespeech on the Adverts Scenario. To achieve this, we are using HateSonar's Sonar hate detecter.\n"
   ]
  },
  {
   "cell_type": "code",
   "execution_count": 1,
   "metadata": {
    "pycharm": {
     "is_executing": false
    }
   },
   "outputs": [],
   "source": [
    "import pandas as pd\n",
    "import numpy as np\n",
    "import re\n",
    "from hatesonar import Sonar"
   ]
  },
  {
   "cell_type": "code",
   "execution_count": 2,
   "metadata": {},
   "outputs": [],
   "source": [
    "sonar = Sonar()"
   ]
  },
  {
   "cell_type": "code",
   "execution_count": 3,
   "metadata": {},
   "outputs": [],
   "source": [
    "# reading the dataset\n",
    "\n",
    "data = pd.read_csv('../Data/data_IRA_Ads.csv', sep='\\t') \n",
    "\n",
    "data['hate_speech'] = np.nan\n",
    "data['offensive_language'] = np.nan\n",
    "data['neither'] = np.nan\n",
    "data['selected_class'] = np.nan\n",
    "\n",
    "for index, eachAdText in data['AD_TEXT'].iteritems():\n",
    "    # skip empty texts\n",
    "    if pd.isnull(eachAdText):\n",
    "        continue\n",
    "        \n",
    "    # calculate the senti-index for each advert text\n",
    "    tempRespond = sonar.ping(text = eachAdText)    \n",
    "    # saving class vote of Sonar\n",
    "    data.loc[index, 'selected_class'] = tempRespond['top_class']\n",
    "    # saving confidence percentages\n",
    "    for eachClass in  tempRespond['classes']:\n",
    "        className = eachClass['class_name'] \n",
    "        confidence =  eachClass['confidence']\n",
    "        data.loc[index, className] = confidence "
   ]
  },
  {
   "cell_type": "code",
   "execution_count": 7,
   "metadata": {},
   "outputs": [
    {
     "name": "stdout",
     "output_type": "stream",
     "text": [
      "      AD_ID  hate_speech  offensive_language   neither selected_class\n",
      "0         1     0.039453            0.330376  0.630171        neither\n",
      "1         2     0.132910            0.417060  0.450030        neither\n",
      "2         3     0.043411            0.298978  0.657610        neither\n",
      "3         4     0.064038            0.317447  0.618514        neither\n",
      "4         5     0.106893            0.272629  0.620478        neither\n",
      "5         6     0.037562            0.362774  0.599664        neither\n",
      "6         7     0.037562            0.362774  0.599664        neither\n",
      "7         8     0.107106            0.287881  0.605013        neither\n",
      "8         9     0.054854            0.311802  0.633343        neither\n",
      "9        10     0.081651            0.316106  0.602243        neither\n",
      "10       11     0.063088            0.291183  0.645729        neither\n",
      "11       12     0.060237            0.449243  0.490520        neither\n",
      "12       13     0.127473            0.265233  0.607293        neither\n",
      "13       14     0.044155            0.295470  0.660375        neither\n",
      "14       15     0.066347            0.323106  0.610547        neither\n",
      "15       16     0.087107            0.296511  0.616382        neither\n",
      "16       17     0.063405            0.321331  0.615264        neither\n",
      "17       18     0.063405            0.321331  0.615264        neither\n",
      "18       19     0.057883            0.324868  0.617249        neither\n",
      "19       20     0.052189            0.347780  0.600031        neither\n",
      "20       21     0.048412            0.328771  0.622817        neither\n",
      "21       22     0.124646            0.239039  0.636314        neither\n",
      "22       23     0.070705            0.319653  0.609642        neither\n",
      "23       24     0.070705            0.319653  0.609642        neither\n",
      "24       25     0.068446            0.322984  0.608571        neither\n",
      "25       26     0.048808            0.318744  0.632448        neither\n",
      "26       27     0.058998            0.305735  0.635267        neither\n",
      "27       28     0.054122            0.305484  0.640394        neither\n",
      "28       29     0.068927            0.352934  0.578139        neither\n",
      "29       30     0.067149            0.333058  0.599793        neither\n",
      "...     ...          ...                 ...       ...            ...\n",
      "3487   3490     0.043028            0.386960  0.570012        neither\n",
      "3488   3491     0.043028            0.386960  0.570012        neither\n",
      "3489   3492     0.043028            0.386960  0.570012        neither\n",
      "3490   3493     0.043028            0.386960  0.570012        neither\n",
      "3491   3494     0.043028            0.386960  0.570012        neither\n",
      "3492   3495     0.043028            0.386960  0.570012        neither\n",
      "3493   3496     0.043028            0.386960  0.570012        neither\n",
      "3494   3497     0.043028            0.386960  0.570012        neither\n",
      "3495   3498     0.045022            0.359792  0.595186        neither\n",
      "3496   3499     0.045022            0.359792  0.595186        neither\n",
      "3497   3500     0.045022            0.359792  0.595186        neither\n",
      "3498   3501     0.045022            0.359792  0.595186        neither\n",
      "3499   3502     0.038390            0.449687  0.511922        neither\n",
      "3500   3503     0.119597            0.271269  0.609133        neither\n",
      "3501   3504     0.048022            0.259254  0.692724        neither\n",
      "3502   3505     0.043575            0.289565  0.666860        neither\n",
      "3503   3506     0.026840            0.383106  0.590054        neither\n",
      "3504   3507     0.078548            0.290888  0.630564        neither\n",
      "3505   3508     0.043454            0.399146  0.557399        neither\n",
      "3506   3509     0.052144            0.389865  0.557991        neither\n",
      "3507   3510     0.034629            0.402877  0.562495        neither\n",
      "3508   3511     0.054690            0.330226  0.615084        neither\n",
      "3509   3512     0.038436            0.325776  0.635788        neither\n",
      "3510   3513     0.039097            0.333382  0.627522        neither\n",
      "3511   3514     0.053351            0.384362  0.562286        neither\n",
      "3512   3515     0.190125            0.354836  0.455040        neither\n",
      "3513   3516     0.077320            0.346008  0.576672        neither\n",
      "3514   3517     0.123689            0.368157  0.508154        neither\n",
      "3515   3518     0.104886            0.252812  0.642302        neither\n",
      "3516   3519     0.038669            0.323807  0.637524        neither\n",
      "\n",
      "[3517 rows x 5 columns]\n"
     ]
    }
   ],
   "source": [
    "print(data[['AD_ID', 'hate_speech', 'offensive_language', 'neither', 'selected_class']])  "
   ]
  },
  {
   "cell_type": "code",
   "execution_count": 9,
   "metadata": {},
   "outputs": [
    {
     "name": "stdout",
     "output_type": "stream",
     "text": [
      "neither Ads:\n",
      "\n",
      " 3248\n",
      "offensive_language Ads:\n",
      "\n",
      " 202\n",
      "hate_speech Ads:\n",
      "\n",
      " 37\n"
     ]
    }
   ],
   "source": [
    "# find classes of ads\n",
    "tempClass = data.loc[ data['selected_class'] == 'neither' ]\n",
    "print ('neither Ads:\\n\\n', len(tempClass))\n",
    "\n",
    "# find classes of ads\n",
    "tempClass = data.loc[ data['selected_class'] == 'offensive_language' ]\n",
    "print ('offensive_language Ads:\\n\\n', len(tempClass))\n",
    "\n",
    "# find classes of ads\n",
    "tempClass = data.loc[ data['selected_class'] == 'hate_speech' ]\n",
    "print ('hate_speech Ads:\\n\\n', len(tempClass))"
   ]
  }
 ],
 "metadata": {
  "kernelspec": {
   "display_name": "Python 3",
   "language": "python",
   "name": "python3"
  },
  "language_info": {
   "codemirror_mode": {
    "name": "ipython",
    "version": 3
   },
   "file_extension": ".py",
   "mimetype": "text/x-python",
   "name": "python",
   "nbconvert_exporter": "python",
   "pygments_lexer": "ipython3",
   "version": "3.6.8"
  }
 },
 "nbformat": 4,
 "nbformat_minor": 2
}
