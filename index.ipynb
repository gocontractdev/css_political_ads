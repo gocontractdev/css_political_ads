{
 "cells": [
  {
   "cell_type": "markdown",
   "metadata": {
    "pycharm": {}
   },
   "source": [
    "### Computational Social Science: Task 2\n",
    "\n",
    "#### Political Adverts Analyzer\n",
    "\n",
    "In this project we analyze collected data from Facebook adverts that are linked to Russian Propagenda Agency in order to discover potential corellations between Negative ads and effectivity of them on USA different demographical targeted groups.\n",
    "\n",
    "Our project is divided into following sections:\n",
    "\n",
    "- First, Definining measurs and calculating SUCCESS of Adverts: [Click Here!](Notebooks/effectivity.ipynb)\n",
    "\n",
    "\n",
    "- Second, Indexing Negativity/Positivity of Adverts: [Click Here!](Notebooks/negativity.ipynb)\n",
    "\n",
    "\n",
    "- Third, Alternative for indexing Negativity/Positivity of Adverts: [Click Here!](Notebooks/negativeIndexer.ipynb)\n",
    "\n",
    "\n",
    "- Forth, Analyzing data and calculating correlations: [Click Here!](Notebooks/correlations.ipynb)\n",
    "\n",
    "\n",
    "\n",
    "This project is using a virtual Environment and custom intereprter based on Python 3.6. You might need to first install requirements to have a successful run."
   ]
  },
  {
   "cell_type": "code",
   "execution_count": 1,
   "metadata": {
    "pycharm": {
     "is_executing": false
    }
   },
   "outputs": [
    {
     "name": "stdout",
     "output_type": "stream",
     "text": [
      "Hello world! This is Python...\n"
     ]
    }
   ],
   "source": [
    "print(\"Hello world! This is Python...\")\n"
   ]
  }
 ],
 "metadata": {
  "kernelspec": {
   "display_name": "Python 3",
   "language": "python",
   "name": "python3"
  },
  "language_info": {
   "codemirror_mode": {
    "name": "ipython",
    "version": 3
   },
   "file_extension": ".py",
   "mimetype": "text/x-python",
   "name": "python",
   "nbconvert_exporter": "python",
   "pygments_lexer": "ipython3",
   "version": "3.6.8"
  },
  "pycharm": {
   "stem_cell": {
    "cell_type": "raw",
    "metadata": {
     "collapsed": false
    },
    "source": []
   }
  }
 },
 "nbformat": 4,
 "nbformat_minor": 1
}
