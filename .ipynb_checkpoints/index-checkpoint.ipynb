{
 "cells": [
  {
   "cell_type": "markdown",
   "metadata": {},
   "source": [
    "### Computational Social Science: Task 2\n",
    "\n",
    "Political Adverts Analyzer\n",
    "\n",
    "This project is a case study aiming to analyze a Facebook collection of hand-picked adverts that are linked to Russian Propagenda Agency (R.P.A.) to invastigate if there is any relationship between the negativeness of advets and their succes on USA Citizen's different demographical targeted groups.\n",
    "\n",
    "Our main work is divided into following sections:\n",
    "\n",
    "- First, indexing Negativity/Positivity of Adverts: [Click Here!](Notebooks/negativeIndexer.ipynb)\n",
    "\n",
    "\n",
    "- Second, Defining measures and calculating SUCCESS of Adverts: [Click Here!](Notebooks/effectivity.ipynb)\n",
    "\n",
    "\n",
    "- Third, defining Age Groups and CTR comparison: [Click Here!](Notebooks/CTR_AgeGrouping.ipynb)\n",
    "\n",
    "\n",
    "- Forth, CTR distribution comparing different factors: [Click Here!](Notebooks/CTR_continued.ipynb)\n",
    "\n",
    "\n",
    "- Fifth, Targeting Groups Classification: [Click Here!](Notebooks/Targetting_group.ipynb)\n",
    "\n",
    "\n",
    "- Sixth, final report on Target Groups and effectiveness measure: [Click Here!](Notebooks/final_analysis.ipynb)\n",
    "\n",
    "\n",
    "--------------------------------------------------------------------------\n",
    "\n",
    "Extra Notes:\n",
    "\n",
    "\n",
    "- Hand Label and shuffeling for model validation: [Click Here!](Notebooks/Shuffeling.ipynb)\n",
    "\n",
    "\n",
    "- Hand Labelings Word Model and its Success: [Click Here!](Notebooks/Handlabeling.ipynb)\n",
    "\n",
    "\n",
    "- (NOT USED) Correlation between CTR and Negative Ads: [Click Here!](Notebooks/correlations.ipynb)\n",
    "\n",
    "\n",
    "- (NOT USED) Indexing Negativity/Positivity of Adverts: [Click Here!](Notebooks/negativity.ipynb)\n",
    "\n",
    "\n",
    "- (NOT USED) hatred and hatespeech detector on Adverts' text: [Click Here!](Notebooks/hatespeech.ipynb)\n",
    "\n",
    "\n",
    "\n",
    "This project is using a virtual Environment and custom intereprter based on Python 3.6. You might need to first install requirements to have a successful run."
   ]
  }
 ],
 "metadata": {
  "kernelspec": {
   "display_name": "Python 3",
   "language": "python",
   "name": "python3"
  },
  "language_info": {
   "codemirror_mode": {
    "name": "ipython",
    "version": 3
   },
   "file_extension": ".py",
   "mimetype": "text/x-python",
   "name": "python",
   "nbconvert_exporter": "python",
   "pygments_lexer": "ipython3",
   "version": "3.6.8"
  },
  "pycharm": {
   "stem_cell": {
    "cell_type": "raw",
    "metadata": {
     "collapsed": false
    },
    "source": []
   }
  }
 },
 "nbformat": 4,
 "nbformat_minor": 1
}
